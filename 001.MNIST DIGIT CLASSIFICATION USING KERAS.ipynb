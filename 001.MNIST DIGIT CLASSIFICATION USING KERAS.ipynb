{
 "cells": [
  {
   "cell_type": "markdown",
   "metadata": {},
   "source": [
    "## Loading the necessary Libraries"
   ]
  },
  {
   "cell_type": "code",
   "execution_count": 1,
   "metadata": {},
   "outputs": [
    {
     "name": "stderr",
     "output_type": "stream",
     "text": [
      "C:\\Anaconda\\lib\\site-packages\\h5py\\__init__.py:36: FutureWarning: Conversion of the second argument of issubdtype from `float` to `np.floating` is deprecated. In future, it will be treated as `np.float64 == np.dtype(float).type`.\n",
      "  from ._conv import register_converters as _register_converters\n"
     ]
    }
   ],
   "source": [
    "# Loading the necessary Libraries\n",
    "import tensorflow as tf\n",
    "import numpy as np\n",
    "from tensorflow import keras\n",
    "import matplotlib.pyplot as plt"
   ]
  },
  {
   "cell_type": "markdown",
   "metadata": {},
   "source": [
    "#### Just printing the tenserflow version. Can skip this cell"
   ]
  },
  {
   "cell_type": "code",
   "execution_count": 2,
   "metadata": {},
   "outputs": [
    {
     "name": "stdout",
     "output_type": "stream",
     "text": [
      "Tensorflow version we are using : 1.10.0\n"
     ]
    }
   ],
   "source": [
    "# Just printing the tenserflow version. Can skip this cell\n",
    "print(\"Tensorflow version we are using :\", tf.__version__)"
   ]
  },
  {
   "cell_type": "markdown",
   "metadata": {},
   "source": [
    "## Loading our dataset.\n",
    "        # Spliting our dataset into training and testing sets just to check weather our model generalized or overfit to data."
   ]
  },
  {
   "cell_type": "code",
   "execution_count": 3,
   "metadata": {},
   "outputs": [],
   "source": [
    "mnist_data = keras.datasets.mnist\n",
    "(x_train, y_train), (x_test, y_test) = mnist_data.load_data()"
   ]
  },
  {
   "cell_type": "markdown",
   "metadata": {},
   "source": [
    "## Normalizing the datasets.\n",
    "             --> This can be done in two ways By Using the keras or by normally understanding the data and perform some operation that normalize our data.(Here divide by 255)\n",
    "                # Method 1: By Using Keras\n",
    "                    x_train = keras.utils.normalize(x_train,axis=1)\n",
    "                    x_test = keras.utils.normalize(x_test,axis=1)\n",
    "\n",
    "                # Another alternative for normalizing dataset:\n",
    "                    x_train = x_train/255\n",
    "                    x_test = x_test/255"
   ]
  },
  {
   "cell_type": "code",
   "execution_count": 4,
   "metadata": {},
   "outputs": [],
   "source": [
    "x_train = keras.utils.normalize(x_train,axis=1)\n",
    "x_test = keras.utils.normalize(x_test,axis=1)\n",
    "\n",
    "# Another alternative for normalizing dataset:\n",
    "# x_train = x_train/255\n",
    "# x_test = x_test/255"
   ]
  },
  {
   "cell_type": "markdown",
   "metadata": {},
   "source": [
    "## Displaying one of the digit"
   ]
  },
  {
   "cell_type": "code",
   "execution_count": 5,
   "metadata": {
    "scrolled": true
   },
   "outputs": [
    {
     "data": {
      "text/plain": [
       "<matplotlib.image.AxesImage at 0x1b003646710>"
      ]
     },
     "execution_count": 5,
     "metadata": {},
     "output_type": "execute_result"
    },
    {
     "data": {
      "image/png": "[encoded data removed]",
      "text/plain": [
       "<Figure size 432x288 with 1 Axes>"
      ]
     },
     "metadata": {},
     "output_type": "display_data"
    }
   ],
   "source": [
    "plt.imshow(x_train[0], cmap=plt.cm.binary) "
   ]
  },
  {
   "cell_type": "markdown",
   "metadata": {},
   "source": [
    "## Creating our model. Here the following code simply creates the structure of our Nerual Network."
   ]
  },
  {
   "cell_type": "code",
   "execution_count": 6,
   "metadata": {},
   "outputs": [],
   "source": [
    "model = keras.models.Sequential()    # Creates a sequental model.\n",
    "model.add(keras.layers.Flatten())    # Our input layer \n",
    "model.add(keras.layers.Dense(128, activation=tf.nn.relu))    # Hidden Layer 1 with 128 neurons and Using ReLu Activation.\n",
    "model.add(keras.layers.Dense(128, activation=tf.nn.relu))    # Hidden Layer 2 with 128 neurons and Using ReLu Activation.\n",
    "model.add(keras.layers.Dense(10, activation=tf.nn.softmax))  # Output Layer."
   ]
  },
  {
   "cell_type": "code",
   "execution_count": 7,
   "metadata": {},
   "outputs": [],
   "source": [
    "# Declaring our loss function, optimizer, metrics\n",
    "model.compile(optimizer='adam',\n",
    "             loss = 'sparse_categorical_crossentropy',\n",
    "             metrics = ['mse','accuracy'])"
   ]
  },
  {
   "cell_type": "markdown",
   "metadata": {},
   "source": [
    "## Training"
   ]
  },
  {
   "cell_type": "code",
   "execution_count": 8,
   "metadata": {
    "scrolled": false
   },
   "outputs": [
    {
     "name": "stdout",
     "output_type": "stream",
     "text": [
      "Epoch 1/5\n",
      "60000/60000 [==============================] - 21s 353us/step - loss: 0.2648 - mean_squared_error: 27.3798 - acc: 0.9225\n",
      "Epoch 2/5\n",
      "60000/60000 [==============================] - 11s 191us/step - loss: 0.1038 - mean_squared_error: 27.3887 - acc: 0.9678\n",
      "Epoch 3/5\n",
      "60000/60000 [==============================] - 12s 202us/step - loss: 0.0727 - mean_squared_error: 27.3905 - acc: 0.9770\n",
      "Epoch 4/5\n",
      "60000/60000 [==============================] - 13s 223us/step - loss: 0.0534 - mean_squared_error: 27.3915 - acc: 0.9830\n",
      "Epoch 5/5\n",
      "60000/60000 [==============================] - 14s 240us/step - loss: 0.0411 - mean_squared_error: 27.3921 - acc: 0.9864\n"
     ]
    },
    {
     "data": {
      "text/plain": [
       "<tensorflow.python.keras.callbacks.History at 0x1b003747f60>"
      ]
     },
     "execution_count": 8,
     "metadata": {},
     "output_type": "execute_result"
    }
   ],
   "source": [
    "model.fit(x_train,y_train,epochs=5)   # Training our dataset with 5 epochs"
   ]
  },
  {
   "cell_type": "markdown",
   "metadata": {},
   "source": [
    "## Examining how our trained model behaves with the testing data"
   ]
  },
  {
   "cell_type": "code",
   "execution_count": 9,
   "metadata": {},
   "outputs": [
    {
     "name": "stdout",
     "output_type": "stream",
     "text": [
      "10000/10000 [==============================] - 1s 58us/step\n",
      "Validation Loss : 0.08834487563488073\n",
      "Validation Mean : 27.337507135009766\n",
      "Validation Accuracy : 0.9729\n"
     ]
    }
   ],
   "source": [
    "val_loss, val_mean, val_acc = model.evaluate(x_test,y_test)   \n",
    "print(\"Validation Loss :\",val_loss)\n",
    "print(\"Validation Mean :\", val_mean)\n",
    "print(\"Validation Accuracy :\", val_acc)"
   ]
  },
  {
   "cell_type": "markdown",
   "metadata": {},
   "source": [
    "### Just for cross checking purpose lets examine the 642 data element and see how our model predicts that..."
   ]
  },
  {
   "cell_type": "code",
   "execution_count": 10,
   "metadata": {
    "scrolled": true
   },
   "outputs": [
    {
     "data": {
      "text/plain": [
       "<matplotlib.image.AxesImage at 0x1b02d88fb00>"
      ]
     },
     "execution_count": 10,
     "metadata": {},
     "output_type": "execute_result"
    },
    {
     "data": {
      "image/png": "[encoded data removed]",
      "text/plain": [
       "<Figure size 432x288 with 1 Axes>"
      ]
     },
     "metadata": {},
     "output_type": "display_data"
    }
   ],
   "source": [
    "plt.imshow(x_test[642],cmap=plt.cm.binary)"
   ]
  },
  {
   "cell_type": "code",
   "execution_count": 11,
   "metadata": {},
   "outputs": [],
   "source": [
    "predictions = model.predict_classes([x_test]) # this statement returns array of model's outputs for entire test data set"
   ]
  },
  {
   "cell_type": "code",
   "execution_count": 12,
   "metadata": {},
   "outputs": [
    {
     "data": {
      "text/plain": [
       "0"
      ]
     },
     "execution_count": 12,
     "metadata": {},
     "output_type": "execute_result"
    }
   ],
   "source": [
    "predictions[642] # Prediction for 642th element of our test dataset"
   ]
  },
  {
   "cell_type": "code",
   "execution_count": 13,
   "metadata": {},
   "outputs": [],
   "source": [
    "prediction_probability = model.predict_proba([x_test])[642]\n",
    "# recall our output layer is of softmax. And hence the statement gives the probability of digit being entire class.\n",
    "# We are looking at 642th element,right?  hence storing the probability of 642th element all over avaliable classes."
   ]
  },
  {
   "cell_type": "code",
   "execution_count": 14,
   "metadata": {
    "scrolled": true
   },
   "outputs": [
    {
     "data": {
      "image/png": "[encoded data removed]",
      "text/plain": [
       "<Figure size 432x288 with 1 Axes>"
      ]
     },
     "metadata": {},
     "output_type": "display_data"
    }
   ],
   "source": [
    "# Ploting the result... Graphs shows that the given data is digit 0. You can also observe that there is a small rise in probability at 5. \n",
    "# i.e.Our model predicted the possibility of our number being 5 with very less probability.   \n",
    "plt.bar(range(10),prediction_probability);plt.xticks(range(10));"
   ]
  },
  {
   "cell_type": "code",
   "execution_count": 15,
   "metadata": {
    "scrolled": true
   },
   "outputs": [
    {
     "name": "stdout",
     "output_type": "stream",
     "text": [
      "_________________________________________________________________\n",
      "Layer (type)                 Output Shape              Param #   \n",
      "=================================================================\n",
      "flatten (Flatten)            (None, 784)               0         \n",
      "_________________________________________________________________\n",
      "dense (Dense)                (None, 128)               100480    \n",
      "_________________________________________________________________\n",
      "dense_1 (Dense)              (None, 128)               16512     \n",
      "_________________________________________________________________\n",
      "dense_2 (Dense)              (None, 10)                1290      \n",
      "=================================================================\n",
      "Total params: 118,282\n",
      "Trainable params: 118,282\n",
      "Non-trainable params: 0\n",
      "_________________________________________________________________\n"
     ]
    }
   ],
   "source": [
    "model.summary() # Summery of our model."
   ]
  },
  {
   "cell_type": "markdown",
   "metadata": {},
   "source": [
    "### To Describe how and why the data normalization is important ? I have reinitialized the x_train,x_test with the non - normalized values and try to train and displayed the accuracy.\n",
    "        --> We can observe that without data normalization our model with same no. of neurons still falls shot in accuracy. \n",
    "            This clearly shows how data normalization is important. And especially for Neural Networks Data Normalization \n",
    "            is one of the important factor/aspect to consider."
   ]
  },
  {
   "cell_type": "code",
   "execution_count": 16,
   "metadata": {},
   "outputs": [],
   "source": [
    "(x_train, y_train), (x_test, y_test) = mnist_data.load_data()"
   ]
  },
  {
   "cell_type": "code",
   "execution_count": 17,
   "metadata": {},
   "outputs": [
    {
     "name": "stdout",
     "output_type": "stream",
     "text": [
      "Epoch 1/5\n",
      "60000/60000 [==============================] - 13s 220us/step - loss: 4.4778 - mean_squared_error: 27.3945 - acc: 0.7217\n",
      "Epoch 2/5\n",
      "60000/60000 [==============================] - 14s 239us/step - loss: 3.3782 - mean_squared_error: 27.3945 - acc: 0.7902\n",
      "Epoch 3/5\n",
      "60000/60000 [==============================] - 13s 218us/step - loss: 2.6418 - mean_squared_error: 27.3945 - acc: 0.8359\n",
      "Epoch 4/5\n",
      "60000/60000 [==============================] - 14s 241us/step - loss: 3.1224 - mean_squared_error: 27.3945 - acc: 0.8061\n",
      "Epoch 5/5\n",
      "60000/60000 [==============================] - 13s 217us/step - loss: 2.9865 - mean_squared_error: 27.3945 - acc: 0.8144\n"
     ]
    },
    {
     "data": {
      "text/plain": [
       "<tensorflow.python.keras.callbacks.History at 0x1b00366c390>"
      ]
     },
     "execution_count": 17,
     "metadata": {},
     "output_type": "execute_result"
    }
   ],
   "source": [
    "model.fit(x_train,y_train,epochs=5)"
   ]
  },
  {
   "cell_type": "markdown",
   "metadata": {},
   "source": [
    "#### Checking the model accuracy soon after re-normalizing.\n",
    "        --> We observe that the accuracy is improved soon after normalizing the data.\n",
    "        \n",
    "NOTE: 1) Here 'model' is the network used over and over to train normalized and non-normalized data successively and hence the model with the training examples supplied in every cell has impact on the next training cell. (Here Assuming the effect is Zero. But in practice the effect might not be Zero.)"
   ]
  },
  {
   "cell_type": "code",
   "execution_count": 18,
   "metadata": {
    "scrolled": true
   },
   "outputs": [
    {
     "name": "stdout",
     "output_type": "stream",
     "text": [
      "Epoch 1/5\n",
      "60000/60000 [==============================] - 14s 238us/step - loss: 0.2971 - mean_squared_error: 27.3909 - acc: 0.9446\n",
      "Epoch 2/5\n",
      "60000/60000 [==============================] - 13s 219us/step - loss: 0.0885 - mean_squared_error: 27.3904 - acc: 0.9722\n",
      "Epoch 3/5\n",
      "60000/60000 [==============================] - 14s 237us/step - loss: 0.0607 - mean_squared_error: 27.3912 - acc: 0.9812\n",
      "Epoch 4/5\n",
      "60000/60000 [==============================] - 14s 240us/step - loss: 0.0439 - mean_squared_error: 27.3919 - acc: 0.9861\n",
      "Epoch 5/5\n",
      "60000/60000 [==============================] - 13s 219us/step - loss: 0.0340 - mean_squared_error: 27.3924 - acc: 0.9890\n"
     ]
    },
    {
     "data": {
      "text/plain": [
       "<tensorflow.python.keras.callbacks.History at 0x1b02e14aa20>"
      ]
     },
     "execution_count": 18,
     "metadata": {},
     "output_type": "execute_result"
    }
   ],
   "source": [
    "# retraining with normalized data...\n",
    "x_train = keras.utils.normalize(x_train,axis=1)\n",
    "x_test = keras.utils.normalize(x_test,axis=1)\n",
    "model.fit(x_train,y_train,epochs=5)"
   ]
  },
  {
   "cell_type": "markdown",
   "metadata": {},
   "source": [
    "### Saving our Model"
   ]
  },
  {
   "cell_type": "code",
   "execution_count": 19,
   "metadata": {},
   "outputs": [],
   "source": [
    "model.save('MNIST_DIGIT_KERAS.model')"
   ]
  },
  {
   "cell_type": "markdown",
   "metadata": {},
   "source": [
    "### Retrieving saved Model"
   ]
  },
  {
   "cell_type": "code",
   "execution_count": 20,
   "metadata": {},
   "outputs": [
    {
     "data": {
      "text/plain": [
       "<tensorflow.python.keras.engine.sequential.Sequential at 0x1b02d84af98>"
      ]
     },
     "execution_count": 20,
     "metadata": {},
     "output_type": "execute_result"
    }
   ],
   "source": [
    "keras.models.load_model('MNIST_DIGIT_KERAS.model')"
   ]
  }
 ],
 "metadata": {
  "kernelspec": {
   "display_name": "Python 3",
   "language": "python",
   "name": "python3"
  },
  "language_info": {
   "codemirror_mode": {
    "name": "ipython",
    "version": 3
   },
   "file_extension": ".py",
   "mimetype": "text/x-python",
   "name": "python",
   "nbconvert_exporter": "python",
   "pygments_lexer": "ipython3",
   "version": "3.6.5"
  }
 },
 "nbformat": 4,
 "nbformat_minor": 2
}
